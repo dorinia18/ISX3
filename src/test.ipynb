{
 "cells": [
  {
   "cell_type": "code",
   "execution_count": 2,
   "metadata": {},
   "outputs": [
    {
     "name": "stdout",
     "output_type": "stream",
     "text": [
      "b'\\x00\\x00\\x00d'\n",
      "[66, 200, 0, 0]\n",
      "['0x42', '0xc8', '0x0', '0x0']\n"
     ]
    },
    {
     "data": {
      "text/plain": [
       "100.0"
      ]
     },
     "execution_count": 2,
     "metadata": {},
     "output_type": "execute_result"
    }
   ],
   "source": [
    "from ISX_3 import ISX_3\n",
    "import sciopy_dataclasses as sdc\n",
    "from sciopy_dataclasses import FreqList\n",
    "import numpy as np\n",
    "import struct\n",
    "from com_util import (clTbt_sp, uintTbt,bytesarray_to_float)\n",
    "\n",
    "\n",
    "x =['0x00DZ', '0x00', '0x00', '0x00']\n",
    "\n",
    "print(uintTbt(100))\n",
    "print(clTbt_sp(100))\n",
    "\n",
    "\n",
    "a = [hex(b) for b in clTbt_sp(100)]\n",
    "print(a)\n",
    "bytesarray_to_float(a)\n",
    "# bytes_array = [int(b, 16) for b in x]\n",
    "# bytes(bytes_array)"
   ]
  },
  {
   "cell_type": "code",
   "execution_count": 6,
   "metadata": {},
   "outputs": [
    {
     "data": {
      "text/plain": [
       "[63, 128, 0, 0]"
      ]
     },
     "execution_count": 6,
     "metadata": {},
     "output_type": "execute_result"
    }
   ],
   "source": [
    "clTbt_sp(1)\n"
   ]
  }
 ],
 "metadata": {
  "kernelspec": {
   "display_name": "Python 3",
   "language": "python",
   "name": "python3"
  },
  "language_info": {
   "codemirror_mode": {
    "name": "ipython",
    "version": 3
   },
   "file_extension": ".py",
   "mimetype": "text/x-python",
   "name": "python",
   "nbconvert_exporter": "python",
   "pygments_lexer": "ipython3",
   "version": "3.13.0"
  }
 },
 "nbformat": 4,
 "nbformat_minor": 2
}
