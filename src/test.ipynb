{
 "cells": [
  {
   "cell_type": "code",
   "execution_count": null,
   "metadata": {},
   "outputs": [],
   "source": [
    "from ISX_3 import ISX_3\n",
    "import sciopy_dataclasses as sdc\n",
    "from sciopy_dataclasses import FreqList\n",
    "import numpy as np\n",
    "import struct\n",
    "from com_util import (clTbt_sp, uintTbt,bytesarray_to_float)\n",
    "\n",
    "\n",
    "x = bytearray(b'\\xb6%\\x03B\\xc8\\x00\\x00CH\\x00\\x00?\\x80\\x00\\x00\\x01?\\x80\\x00\\x00<#\\xd7\\n\\x01\\x00\\x00\\x03\\xe8\\x02\\x00\\x00\\x00\\x00\\x03\\x00\\x00\\x00\\x02\\xb6')\n",
    "bytes_array = [float(b) for b in x]"
   ]
  }
 ],
 "metadata": {
  "language_info": {
   "name": "python"
  }
 },
 "nbformat": 4,
 "nbformat_minor": 2
}
