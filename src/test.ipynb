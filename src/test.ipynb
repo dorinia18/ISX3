{
 "cells": [
  {
   "cell_type": "code",
   "execution_count": 1,
   "metadata": {},
   "outputs": [
    {
     "name": "stdout",
     "output_type": "stream",
     "text": [
      "b'\\x01'\n",
      "[66, 200, 0, 0]\n",
      "['0x42', '0xc8', '0x0', '0x0']\n"
     ]
    },
    {
     "data": {
      "text/plain": [
       "100.0"
      ]
     },
     "execution_count": 1,
     "metadata": {},
     "output_type": "execute_result"
    }
   ],
   "source": [
    "from ISX_3 import ISX_3\n",
    "import sciopy_dataclasses as sdc\n",
    "from sciopy_dataclasses import FreqList\n",
    "import numpy as np\n",
    "import struct\n",
    "from com_util import (clTbt_sp, uintTbt,bytesarray_to_float)\n",
    "import itertools\n",
    "\n",
    "\n",
    "\n",
    "x =['0x00DZ', '0x00', '0x00', '0x00']\n",
    "\n",
    "print(uintTbt(1)[3:])\n",
    "print(clTbt_sp(100))\n",
    "\n",
    "\n",
    "a = [hex(b) for b in clTbt_sp(100)]\n",
    "print(a)\n",
    "bytesarray_to_float(a)\n",
    "# bytes_array = [int(b, 16) for b in x]\n",
    "# bytes(bytes_array)"
   ]
  },
  {
   "cell_type": "code",
   "execution_count": 2,
   "metadata": {},
   "outputs": [],
   "source": [
    "eis = sdc.EisMeasurementSetup(\n",
    "    freq_list= FreqList(\n",
    "        #freq = None,\n",
    "        start_freq=500, #ok\n",
    "        stop_freq=10000, #ok\n",
    "        steps=100, #ok\n",
    "        scale=1,\n",
    "        precision=1.0,\n",
    "        volt_amp=None,\n",
    "        current_amp=0.01,\n",
    "        point_delay=1000,\n",
    "        phase_sync=0,\n",
    "        exc_type=2\n",
    "    ),\n",
    "    repeat=1,\n",
    "    time_stamp_ms=1\n",
    "\n",
    ")"
   ]
  },
  {
   "cell_type": "code",
   "execution_count": 3,
   "metadata": {},
   "outputs": [],
   "source": [
    "x = bytearray(list(itertools.chain([\n",
    "                0xB6,\n",
    "                0x37,\n",
    "                0x03],\n",
    "                clTbt_sp(eis.freq_list.start_freq),\n",
    "                clTbt_sp(eis.freq_list.stop_freq),\n",
    "                clTbt_sp(eis.freq_list.steps),\n",
    "                (uintTbt(eis.freq_list.scale)[3:]),\n",
    "                clTbt_sp(eis.freq_list.precision),\n",
    "                clTbt_sp(eis.freq_list.current_amp),\n",
    "                [0x01],\n",
    "                uintTbt(eis.freq_list.point_delay),\n",
    "                [0x02],\n",
    "                clTbt_sp(eis.freq_list.phase_sync), #TODO find out what changes are needed to enable phase sync, error: Command could not be recognized\n",
    "                [0x03],\n",
    "                uintTbt(eis.freq_list.exc_type),\n",
    "                [0xB6])))"
   ]
  },
  {
   "cell_type": "code",
   "execution_count": 4,
   "metadata": {},
   "outputs": [],
   "source": [
    "y= bytearray(list(itertools.chain(\n",
    "                    [0xB6,\n",
    "                     0x06,\n",
    "                     0x05],\n",
    "                     (uintTbt(eis.freq_list.exc_type)[3:]),\n",
    "                     clTbt_sp(eis.freq_list.current_amp),\n",
    "                     [0xB6])))"
   ]
  },
  {
   "cell_type": "code",
   "execution_count": 5,
   "metadata": {},
   "outputs": [
    {
     "name": "stdout",
     "output_type": "stream",
     "text": [
      "['0xb6', '0x6', '0x5', '0x2', '0x3c', '0x23', '0xd7', '0xa', '0xb6']\n"
     ]
    },
    {
     "data": {
      "text/plain": [
       "0.01"
      ]
     },
     "execution_count": 5,
     "metadata": {},
     "output_type": "execute_result"
    }
   ],
   "source": [
    "\n",
    "a = [hex(b) for b in y]\n",
    "print(a)\n",
    "bytesarray_to_float(a[4:8])"
   ]
  },
  {
   "cell_type": "code",
   "execution_count": 6,
   "metadata": {},
   "outputs": [
    {
     "data": {
      "text/plain": [
       "0.01"
      ]
     },
     "execution_count": 6,
     "metadata": {},
     "output_type": "execute_result"
    }
   ],
   "source": [
    "bytesarray_to_float(['0x3c', '0x23', '0xd7', '0xa'])"
   ]
  }
 ],
 "metadata": {
  "kernelspec": {
   "display_name": "Python 3",
   "language": "python",
   "name": "python3"
  },
  "language_info": {
   "codemirror_mode": {
    "name": "ipython",
    "version": 3
   },
   "file_extension": ".py",
   "mimetype": "text/x-python",
   "name": "python",
   "nbconvert_exporter": "python",
   "pygments_lexer": "ipython3",
   "version": "3.13.0"
  }
 },
 "nbformat": 4,
 "nbformat_minor": 2
}
